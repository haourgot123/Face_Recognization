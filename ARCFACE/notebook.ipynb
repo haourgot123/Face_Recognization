{
 "cells": [
  {
   "cell_type": "code",
   "execution_count": 1,
   "metadata": {},
   "outputs": [],
   "source": [
    "import numpy as np\n"
   ]
  },
  {
   "cell_type": "code",
   "execution_count": 3,
   "metadata": {},
   "outputs": [],
   "source": [
    "embedding = np.load('embeding/embeddings_vector_arcface.npy')"
   ]
  },
  {
   "cell_type": "code",
   "execution_count": 4,
   "metadata": {},
   "outputs": [
    {
     "data": {
      "text/plain": [
       "(3, 512)"
      ]
     },
     "execution_count": 4,
     "metadata": {},
     "output_type": "execute_result"
    }
   ],
   "source": [
    "embedding.shape"
   ]
  },
  {
   "cell_type": "code",
   "execution_count": 7,
   "metadata": {},
   "outputs": [
    {
     "name": "stdout",
     "output_type": "stream",
     "text": [
      "0\n",
      "(512,)\n",
      "1\n",
      "(512,)\n",
      "2\n",
      "(512,)\n"
     ]
    }
   ],
   "source": [
    "for i,eb in enumerate(embedding):\n",
    "    print(i)\n",
    "    print(eb.shape)"
   ]
  },
  {
   "cell_type": "code",
   "execution_count": 11,
   "metadata": {},
   "outputs": [],
   "source": [
    "name = np.load('embeding/person_name.npy')"
   ]
  },
  {
   "cell_type": "code",
   "execution_count": 13,
   "metadata": {},
   "outputs": [
    {
     "data": {
      "text/plain": [
       "'Hao'"
      ]
     },
     "execution_count": 13,
     "metadata": {},
     "output_type": "execute_result"
    }
   ],
   "source": [
    "name[0]"
   ]
  },
  {
   "cell_type": "code",
   "execution_count": 16,
   "metadata": {},
   "outputs": [],
   "source": [
    "def cosin(vectora, vectorb):\n",
    "    a = np.dot(vectora, vectorb)\n",
    "    b = np.linalg.norm(vectora)\n",
    "    c = np.linalg.norm(vectorb)\n",
    "    return 1 - a/(b*c)"
   ]
  },
  {
   "cell_type": "code",
   "execution_count": 19,
   "metadata": {},
   "outputs": [
    {
     "name": "stdout",
     "output_type": "stream",
     "text": [
      "0.8288511335849762\n",
      "0.818290576338768\n",
      "0.8007078170776367\n"
     ]
    }
   ],
   "source": [
    "print(cosin(embedding[0], embedding[1]))\n",
    "print(cosin(embedding[0], embedding[2]))\n",
    "print(cosin(embedding[1], embedding[2]))"
   ]
  },
  {
   "cell_type": "code",
   "execution_count": 21,
   "metadata": {},
   "outputs": [],
   "source": [
    "from ultralytics import YOLO\n",
    "from model.arcface_model import build_model\n",
    "from utils.recognization import detect_and_recognization, load_database\n",
    "detect_model = YOLO('model/yolov8n-face.pt')\n",
    "face_model = build_model()\n",
    "weights = 'model/arcface_weights.h5'\n",
    "face_model.load_weights(weights)\n",
    "\n",
    "embedding_database, person_name_database = load_database(\n",
    "    embedding_path = 'embeding/embeddings_vector_arcface.npy', \n",
    "    name_path = 'embeding/person_name.npy'\n",
    ")"
   ]
  },
  {
   "cell_type": "code",
   "execution_count": 25,
   "metadata": {},
   "outputs": [
    {
     "name": "stdout",
     "output_type": "stream",
     "text": [
      "\n",
      "0: 608x640 1 face, 824.8ms\n",
      "Speed: 160.6ms preprocess, 824.8ms inference, 54.9ms postprocess per image at shape (1, 3, 608, 640)\n",
      "1/1 [==============================] - 2s 2s/step\n"
     ]
    }
   ],
   "source": [
    "import cv2\n",
    "img = cv2.imread('dataset/test/pic1.jpg')\n",
    "detect_and_recognization(img, detect_model, face_model, embedding_database, person_name_database)\n",
    "cv2.imshow('face', img)\n",
    "# Chờ người dùng nhấn phím bất kỳ để đóng cửa sổ\n",
    "cv2.waitKey(0)\n",
    "\n",
    "# Đóng tất cả các cửa sổ\n",
    "cv2.destroyAllWindows()"
   ]
  },
  {
   "cell_type": "code",
   "execution_count": null,
   "metadata": {},
   "outputs": [],
   "source": []
  }
 ],
 "metadata": {
  "kernelspec": {
   "display_name": "face_recognization",
   "language": "python",
   "name": "python3"
  },
  "language_info": {
   "codemirror_mode": {
    "name": "ipython",
    "version": 3
   },
   "file_extension": ".py",
   "mimetype": "text/x-python",
   "name": "python",
   "nbconvert_exporter": "python",
   "pygments_lexer": "ipython3",
   "version": "3.8.19"
  }
 },
 "nbformat": 4,
 "nbformat_minor": 2
}
